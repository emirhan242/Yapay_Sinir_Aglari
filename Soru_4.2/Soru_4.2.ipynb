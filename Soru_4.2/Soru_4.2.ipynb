{
  "metadata": {
    "language_info": {
      "codemirror_mode": {
        "name": "python",
        "version": 3
      },
      "file_extension": ".py",
      "mimetype": "text/x-python",
      "name": "python",
      "nbconvert_exporter": "python",
      "pygments_lexer": "ipython3",
      "version": "3.8"
    },
    "kernelspec": {
      "name": "python",
      "display_name": "Python (Pyodide)",
      "language": "python"
    }
  },
  "nbformat_minor": 4,
  "nbformat": 4,
  "cells": [
    {
      "cell_type": "code",
      "source": "import torch\ntorch.manual_seed(190401061)  \nX = torch.tensor([[1, 2, 3], [4, 5, 6]], dtype=torch.float)  \n\n\nimport torch.nn as nn\n\nclass MyNet(nn.Module):\n    def __init__(self):\n        super(MyNet, self).__init__()\n        self.hidden = nn.Linear(3, 50)  \n        self.output = nn.Linear(50, 1)  \n\n    def forward(self, x):\n        x = torch.tanh(self.hidden(x))  \n        x = torch.sigmoid(self.output(x))  \n        return x\n\nmodel = MyNet()  \n\noutput = model(X)\nprint(output)",
      "metadata": {},
      "execution_count": null,
      "outputs": []
    }
  ]
}