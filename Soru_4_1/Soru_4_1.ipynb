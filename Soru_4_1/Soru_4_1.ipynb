{
  "nbformat": 4,
  "nbformat_minor": 0,
  "metadata": {
    "colab": {
      "provenance": []
    },
    "kernelspec": {
      "name": "python3",
      "display_name": "Python 3"
    },
    "language_info": {
      "name": "python"
    }
  },
  "cells": [
    {
      "cell_type": "code",
      "execution_count": null,
      "metadata": {
        "id": "u2Npd5q-Xj9X"
      },
      "outputs": [],
      "source": [
        "import torch\n",
        "torch.manual_seed(1)\n",
        "X = torch.tensor([[1, 2, 3], [4, 5, 6]], dtype=torch.float)"
      ]
    },
    {
      "cell_type": "code",
      "source": [
        "def tan_func(x):\n",
        "\n",
        "  return (torch.exp(x) - torch.exp(-x)) / (torch.exp(x) + torch.exp(-x))\n",
        "\n",
        "def sigmoid_func(x):\n",
        "\n",
        "  return 1 / (1 + torch.exp(-x))\n",
        "\n",
        "import torch.nn as nn\n",
        "\n",
        "class MyNet(nn.Module):\n",
        "    def __init__(self):\n",
        "        super(MyNet, self).__init__()\n",
        "        self.hidden = nn.Linear(3, 50)  # 3 öznitelikli bir hidden layer, 50 nöron\n",
        "        self.output = nn.Linear(50, 1)  # 50 nöronlu bir output layer, 1 nöron\n",
        "\n",
        "    def forward(self, x):\n",
        "        x = tan_func(self.hidden(x))  # Tanh aktivasyon fonksiyonu\n",
        "        x = sigmoid_func(self.output(x))  # Sigmoid aktivasyon fonksiyonu\n",
        "        return x\n",
        "\n",
        "model = MyNet()  # Modelimizi oluşturuyoruz"
      ],
      "metadata": {
        "id": "hMpICyIpYBxi"
      },
      "execution_count": 13,
      "outputs": []
    },
    {
      "cell_type": "code",
      "source": [
        "output = model(X)\n",
        "print(output)"
      ],
      "metadata": {
        "colab": {
          "base_uri": "https://localhost:8080/"
        },
        "id": "cN02bZYNpaML",
        "outputId": "499b9faa-9674-472c-9d98-bdae9ec23dc8"
      },
      "execution_count": 14,
      "outputs": [
        {
          "output_type": "stream",
          "name": "stdout",
          "text": [
            "tensor([[0.3499],\n",
            "        [0.4139]], grad_fn=<MulBackward0>)\n"
          ]
        }
      ]
    }
  ]
}